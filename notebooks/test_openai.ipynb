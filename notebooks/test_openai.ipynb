{
 "cells": [
  {
   "cell_type": "code",
   "execution_count": null,
   "metadata": {},
   "outputs": [],
   "source": [
    "%load_ext autoreload\n",
    "%autoreload 2"
   ]
  },
  {
   "cell_type": "code",
   "execution_count": null,
   "metadata": {},
   "outputs": [],
   "source": [
    "from openai import OpenAI"
   ]
  },
  {
   "cell_type": "code",
   "execution_count": null,
   "metadata": {},
   "outputs": [],
   "source": [
    "!curl --request POST \\\n",
    "    --url http://localhost:8000/completion \\\n",
    "    --header \"Content-Type: application/json\" \\\n",
    "    --data '{\"prompt\": \"Building a website can be done in 10 simple steps:\",\"n_predict\": 128}'"
   ]
  },
  {
   "cell_type": "code",
   "execution_count": null,
   "metadata": {},
   "outputs": [],
   "source": [
    "s = \"\"\"\n",
    "The following is an article's title and abstract. Your task is to assign this article to suitable category hierarchy. \\\n",
    "A category is typically represented by a word or a short phrase, representing broader topics/concepts that the article is about. \\\n",
    "A category hierarchy is a directed acyclic graph that starts with a detailed categorisation and becomes more and more \\\n",
    "general higher up the hierarchy, until it reaches the special base category \"ROOT\".\n",
    "\n",
    "An example hierarchy for an article on \"Single whip law\" might be have the following category hierarchy:\n",
    "```txt\n",
    "Main topic classifications -> Economy -> Economic history -> History of taxation\n",
    "Main topic classifications -> Law -> Law by issue -> Legal history by issue -> History of taxation\n",
    "Main topic classifications -> Law -> Law by issue -> Tax law\n",
    "Main topic classifications -> Law -> Law stubs -> Asian law stubs\n",
    "Main topic classifications -> Politics -> Political history -> History of taxation\n",
    "```\n",
    "\n",
    "Another example hierarchy for an article on \"Stoning\" is:\n",
    "```txt\n",
    "Main topic classifications -> Human behavior -> Abuse -> Cruelty -> Torture\n",
    "Main topic classifications -> Human behavior -> Violence -> Torture\n",
    "Main topic classifications -> Law -> Law-related events -> Crimes -> Torture\n",
    "Main topic classifications -> Law -> Legal aspects of death -> Killings by type\n",
    "Main topic classifications -> Society -> Violence -> Torture\n",
    "```\n",
    "\n",
    "### ARTICLE ###\n",
    "Title: {{ title }}\n",
    "{{ abstract }}\n",
    "### END ARTICLE ###\n",
    "\n",
    "Provide a category hierarchy for the above article. Use the same format as the examples above.\n",
    "\"\"\""
   ]
  },
  {
   "cell_type": "code",
   "execution_count": null,
   "metadata": {},
   "outputs": [],
   "source": [
    "client = OpenAI(\n",
    "    base_url=\"http://localhost:8000/v1\",  # \"http://<Your api-server IP>:port\"\n",
    "    api_key=\"sk-no-key-required\",\n",
    ")\n",
    "\n",
    "completion = client.chat.completions.create(\n",
    "    model=\"TheBloke/Mistral-7B-Instruct-v0.2-AWQ\",\n",
    "    messages=[\n",
    "        {\"role\": \"user\", \"content\": \"Write a limerick about python exceptions\"},\n",
    "    ],\n",
    ")\n",
    "\n",
    "print(completion.choices[0].message)"
   ]
  }
 ],
 "metadata": {
  "kernelspec": {
   "display_name": "Python 3",
   "language": "python",
   "name": "python3"
  },
  "language_info": {
   "codemirror_mode": {
    "name": "ipython",
    "version": 3
   },
   "file_extension": ".py",
   "mimetype": "text/x-python",
   "name": "python",
   "nbconvert_exporter": "python",
   "pygments_lexer": "ipython3",
   "version": "3.11.7"
  }
 },
 "nbformat": 4,
 "nbformat_minor": 2
}
