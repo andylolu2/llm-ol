{
 "cells": [
  {
   "cell_type": "code",
   "execution_count": null,
   "metadata": {
    "metadata": {}
   },
   "outputs": [],
   "source": [
    "%load_ext autoreload\n",
    "%autoreload 2"
   ]
  },
  {
   "cell_type": "code",
   "execution_count": null,
   "metadata": {
    "metadata": {}
   },
   "outputs": [],
   "source": [
    "import random\n",
    "from itertools import product\n",
    "\n",
    "import torch\n",
    "import dotenv\n",
    "from transformers import (\n",
    "    AutoModelForSequenceClassification,\n",
    "    AutoTokenizer,\n",
    "    Trainer,\n",
    "    TrainingArguments,\n",
    ")\n",
    "from tqdm import tqdm\n",
    "\n",
    "from llm_ol.dataset import data_model\n",
    "from llm_ol.utils import batch\n",
    "\n",
    "dotenv.load_dotenv()"
   ]
  },
  {
   "cell_type": "code",
   "execution_count": null,
   "metadata": {
    "metadata": {}
   },
   "outputs": [],
   "source": [
    "G = data_model.load_graph(\"out/data/wikipedia/v2/train_eval_split/train_graph.json\")\n",
    "nodes = list(G.nodes())\n",
    "edges = list(G.edges())"
   ]
  },
  {
   "cell_type": "code",
   "execution_count": null,
   "metadata": {
    "metadata": {}
   },
   "outputs": [],
   "source": [
    "def title(node):\n",
    "    return G.nodes[node][\"title\"]\n",
    "\n",
    "\n",
    "def sample_batch(batch_size: int):\n",
    "    pos_samples = random.sample(edges, batch_size)\n",
    "    neg_samples = []\n",
    "    for _ in range(batch_size):\n",
    "        while True:\n",
    "            src, dst = random.sample(nodes, 2)\n",
    "            if not G.has_edge(src, dst):\n",
    "                neg_samples.append((src, dst))\n",
    "                break\n",
    "\n",
    "    pos_samples = [(title(src), title(dst)) for src, dst in pos_samples]\n",
    "    neg_samples = [(title(src), title(dst)) for src, dst in neg_samples]\n",
    "    samples = pos_samples + neg_samples\n",
    "    labels = [1] * batch_size + [0] * batch_size\n",
    "    return samples, labels"
   ]
  },
  {
   "cell_type": "code",
   "execution_count": null,
   "metadata": {
    "metadata": {}
   },
   "outputs": [],
   "source": [
    "# model_id = \"bert-base-uncased\"\n",
    "model_id = \"out/experiments/link_prediction/debug/checkpoint-1000\"\n",
    "model = AutoModelForSequenceClassification.from_pretrained(\n",
    "    model_id, num_labels=2, device_map=\"cuda\", torch_dtype=torch.bfloat16\n",
    ")\n",
    "tokenizer = AutoTokenizer.from_pretrained(model_id)"
   ]
  },
  {
   "cell_type": "code",
   "execution_count": null,
   "metadata": {
    "metadata": {}
   },
   "outputs": [],
   "source": [
    "samples, labels = sample_batch(1)\n",
    "heads, tails = zip(*samples)\n",
    "\n",
    "inputs = tokenizer(heads, tails, return_tensors=\"pt\", padding=True, truncation=True)\n",
    "\n",
    "with torch.no_grad():\n",
    "    output = model(**inputs, labels=torch.tensor(labels))\n",
    "\n",
    "output.logits.shape, output.loss.shape"
   ]
  },
  {
   "cell_type": "code",
   "execution_count": null,
   "metadata": {
    "metadata": {}
   },
   "outputs": [],
   "source": [
    "G_test = data_model.load_graph(\"out/data/wikipedia/v2/train_test_split/test_graph.json\")\n",
    "nodes_test = list(G_test.nodes())"
   ]
  },
  {
   "cell_type": "code",
   "execution_count": null,
   "metadata": {
    "metadata": {}
   },
   "outputs": [],
   "source": [
    "weights = []\n",
    "for uv_batch in batch(\n",
    "    tqdm(product(nodes_test, nodes_test), total=len(nodes_test) ** 2), 2048\n",
    "):\n",
    "    us, vs = zip(*uv_batch)\n",
    "    inputs = tokenizer(\n",
    "        [G_test.nodes[u][\"title\"] for u in us],\n",
    "        [G_test.nodes[v][\"title\"] for v in vs],\n",
    "        return_tensors=\"pt\",\n",
    "        padding=True,\n",
    "        truncation=True,\n",
    "    ).to(model.device)\n",
    "    with torch.no_grad():\n",
    "        output = model(**inputs)\n",
    "        probs = torch.softmax(output.logits, dim=1)\n",
    "        weights.append(probs[:, 0])"
   ]
  }
 ],
 "metadata": {
  "kernelspec": {
   "display_name": "llm-ol",
   "language": "python",
   "name": "python3"
  },
  "language_info": {
   "codemirror_mode": {
    "name": "ipython",
    "version": 3
   },
   "file_extension": ".py",
   "mimetype": "text/x-python",
   "name": "python",
   "nbconvert_exporter": "python",
   "pygments_lexer": "ipython3",
   "version": "3.11.7"
  }
 },
 "nbformat": 4,
 "nbformat_minor": 2
}
