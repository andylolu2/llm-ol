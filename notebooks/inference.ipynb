{
 "cells": [
  {
   "cell_type": "code",
   "execution_count": null,
   "metadata": {},
   "outputs": [],
   "source": [
    "%load_ext autoreload\n",
    "%autoreload 2"
   ]
  },
  {
   "cell_type": "code",
   "execution_count": null,
   "metadata": {},
   "outputs": [],
   "source": [
    "import json\n",
    "import random\n",
    "\n",
    "import dotenv\n",
    "from vllm import LLM, SamplingParams\n",
    "\n",
    "from llm_ol.experiments.llm.templates import PROMPT_TEMPLATE, PROMPT_TEMPLATE_FULL\n",
    "from llm_ol.dataset import data_model\n",
    "\n",
    "dotenv.load_dotenv()"
   ]
  },
  {
   "cell_type": "code",
   "execution_count": null,
   "metadata": {},
   "outputs": [],
   "source": [
    "# llm = LLM(model=\"out/experiments/finetune/v6/train/checkpoint-16500/merged\")\n",
    "llm = LLM(model=\"mistralai/Mistral-7B-Instruct-v0.2\")\n",
    "tokenizer = llm.get_tokenizer()"
   ]
  },
  {
   "cell_type": "code",
   "execution_count": null,
   "metadata": {},
   "outputs": [],
   "source": [
    "def generate(title, abstract):\n",
    "    messages = [\n",
    "        {\n",
    "            \"role\": \"user\",\n",
    "            \"content\": PROMPT_TEMPLATE_FULL.render(\n",
    "                title=title, abstract=abstract, examples=[]\n",
    "            ),\n",
    "        }\n",
    "    ]\n",
    "    prompt = tokenizer.apply_chat_template(\n",
    "        messages, tokenize=False, add_generation_prompt=True\n",
    "    )\n",
    "    outputs = llm.generate(\n",
    "        prompt,\n",
    "        sampling_params=SamplingParams(\n",
    "            temperature=0.1,\n",
    "            top_p=0.9,\n",
    "            max_tokens=1024,\n",
    "            stop=[\"\\n\\n\"],\n",
    "        ),\n",
    "    )\n",
    "    return outputs[0].outputs[0].text"
   ]
  },
  {
   "cell_type": "code",
   "execution_count": null,
   "metadata": {},
   "outputs": [],
   "source": [
    "generate(\n",
    "    \"A new way to generate electricity\",\n",
    "    \"A new way to generate electricity has been discovered.\",\n",
    ")"
   ]
  },
  {
   "cell_type": "code",
   "execution_count": null,
   "metadata": {},
   "outputs": [],
   "source": [
    "G = data_model.load_graph(\"out/data/arxiv/v1/full/full_graph.json\")"
   ]
  },
  {
   "cell_type": "code",
   "execution_count": null,
   "metadata": {},
   "outputs": [],
   "source": [
    "node = random.choice(list(G.nodes()))\n",
    "page = G.nodes[node][\"pages\"][0]\n",
    "print(page[\"title\"])\n",
    "print(page[\"abstract\"])\n",
    "\n",
    "out = generate(page[\"title\"], page[\"abstract\"])\n",
    "print(out)"
   ]
  }
 ],
 "metadata": {
  "kernelspec": {
   "display_name": "llm-ol",
   "language": "python",
   "name": "python3"
  },
  "language_info": {
   "codemirror_mode": {
    "name": "ipython",
    "version": 3
   },
   "file_extension": ".py",
   "mimetype": "text/x-python",
   "name": "python",
   "nbconvert_exporter": "python",
   "pygments_lexer": "ipython3",
   "version": "3.11.7"
  }
 },
 "nbformat": 4,
 "nbformat_minor": 2
}
