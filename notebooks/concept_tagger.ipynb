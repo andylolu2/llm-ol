{
 "cells": [
  {
   "cell_type": "code",
   "execution_count": null,
   "metadata": {
    "metadata": {}
   },
   "outputs": [],
   "source": [
    "%load_ext autoreload\n",
    "%autoreload 2"
   ]
  },
  {
   "cell_type": "code",
   "execution_count": null,
   "metadata": {
    "metadata": {}
   },
   "outputs": [],
   "source": [
    "import spacy\n",
    "from spacy.tokens import Doc, Span\n",
    "from tqdm import tqdm\n",
    "from datasets import Dataset\n",
    "\n",
    "from llm_ol.dataset import data_model"
   ]
  },
  {
   "cell_type": "code",
   "execution_count": null,
   "metadata": {
    "metadata": {}
   },
   "outputs": [],
   "source": [
    "G = data_model.load_graph(\"out/data/wikipedia/v2/train_eval_split/train_graph.json\")\n",
    "\n",
    "concepts = set()\n",
    "pages = {}\n",
    "for _, data in G.nodes(data=True):\n",
    "    for page in data[\"pages\"]:\n",
    "        pages[page[\"id\"]] = page\n",
    "    concepts.add(data[\"title\"])\n",
    "pages = list(pages.values())"
   ]
  },
  {
   "cell_type": "code",
   "execution_count": null,
   "metadata": {
    "metadata": {}
   },
   "outputs": [],
   "source": [
    "nlp = spacy.load(\"en_core_web_sm\", enable=[\"tagger\", \"attribute_ruler\", \"lemmatizer\"])"
   ]
  },
  {
   "cell_type": "code",
   "execution_count": null,
   "metadata": {
    "metadata": {}
   },
   "outputs": [],
   "source": [
    "concept_docs = list(tqdm(nlp.pipe(concepts, n_process=16), total=len(concepts)))\n",
    "page_docs = list(\n",
    "    tqdm(nlp.pipe([page[\"abstract\"] for page in pages], n_process=16), total=len(pages))\n",
    ")"
   ]
  },
  {
   "cell_type": "code",
   "execution_count": null,
   "metadata": {
    "metadata": {}
   },
   "outputs": [],
   "source": [
    "# Make a trie for the concepts\n",
    "trie = {}\n",
    "for doc in concept_docs:\n",
    "    node = trie\n",
    "    for token in doc:\n",
    "        lemma = token.lemma_\n",
    "        if lemma not in node:\n",
    "            node[lemma] = {}\n",
    "        node = node[lemma]\n",
    "    node[\"\"] = doc.text"
   ]
  },
  {
   "cell_type": "code",
   "execution_count": null,
   "metadata": {
    "metadata": {}
   },
   "outputs": [],
   "source": [
    "matched_concepts = set()\n",
    "\n",
    "\n",
    "def match_concept(span: Span, trie) -> Span | None:\n",
    "    i = 0\n",
    "    for token in span:\n",
    "        lemma = token.lemma_\n",
    "        if lemma in trie:\n",
    "            trie = trie[lemma]\n",
    "            i += 1\n",
    "            if \"\" in trie:\n",
    "                matched_concepts.add(trie[\"\"])\n",
    "                return span[:i]\n",
    "        else:\n",
    "            return None\n",
    "    return None\n",
    "\n",
    "\n",
    "def find_concepts(doc: Doc, trie) -> list[Span]:\n",
    "    concepts = []\n",
    "    for i in range(len(doc)):\n",
    "        matching = match_concept(doc[i:], trie)\n",
    "        if matching is not None:\n",
    "            concepts.append(matching)\n",
    "    return concepts\n",
    "\n",
    "\n",
    "# Go through the pages and tag them with the concepts\n",
    "page_concepts = []\n",
    "for doc in tqdm(page_docs):\n",
    "    page_concepts.append(find_concepts(doc, trie))\n",
    "\n",
    "print(f\"Matched {len(matched_concepts)}/{len(concepts)} concepts\")"
   ]
  },
  {
   "cell_type": "code",
   "execution_count": null,
   "metadata": {
    "metadata": {}
   },
   "outputs": [],
   "source": [
    "# Make a dataset\n",
    "data = {\n",
    "    \"tokens\": [],\n",
    "    \"ner_tags\": [],\n",
    "}\n",
    "for doc, concept_spans in zip(tqdm(page_docs), page_concepts):\n",
    "    tokens = [token.text for token in doc]\n",
    "    tags = [\"O\"] * len(tokens)\n",
    "    for span in spacy.util.filter_spans(concept_spans):\n",
    "        tags[span.start] = \"B-MISC\"\n",
    "        for i in range(span.start + 1, span.end):\n",
    "            tags[i] = \"I-MISC\"\n",
    "    data[\"tokens\"].append(tokens)\n",
    "    data[\"ner_tags\"].append(tags)\n",
    "ds = Dataset.from_dict(data, features=)"
   ]
  },
  {
   "cell_type": "code",
   "execution_count": null,
   "metadata": {
    "metadata": {}
   },
   "outputs": [],
   "source": []
  }
 ],
 "metadata": {
  "kernelspec": {
   "display_name": "llm-ol",
   "language": "python",
   "name": "python3"
  },
  "language_info": {
   "codemirror_mode": {
    "name": "ipython",
    "version": 3
   },
   "file_extension": ".py",
   "mimetype": "text/x-python",
   "name": "python",
   "nbconvert_exporter": "python",
   "pygments_lexer": "ipython3",
   "version": "3.11.7"
  }
 },
 "nbformat": 4,
 "nbformat_minor": 2
}
