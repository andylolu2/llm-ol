{
 "cells": [
  {
   "cell_type": "code",
   "execution_count": null,
   "metadata": {},
   "outputs": [],
   "source": [
    "%load_ext autoreload\n",
    "%autoreload 2"
   ]
  },
  {
   "cell_type": "code",
   "execution_count": null,
   "metadata": {},
   "outputs": [],
   "source": [
    "import json\n",
    "from pathlib import Path\n",
    "\n",
    "import numpy as np\n",
    "import pandas as pd\n",
    "import seaborn as sns\n",
    "\n",
    "from llm_ol.utils import sized_subplots"
   ]
  },
  {
   "cell_type": "code",
   "execution_count": null,
   "metadata": {},
   "outputs": [],
   "source": [
    "paths = {\n",
    "    \"Wikipedia (depth 3)\": Path(\"out/data/wikipedia/v1/eval/metrics.json\"),\n",
    "    \"Hearst\": Path(\"out/experiments/hearst/v1/metrics.json\"),\n",
    "    \"Prompting\": Path(\"out/experiments/prompting/dev-h-v2/metrics.json\"),\n",
    "}\n",
    "metrics = {k: json.loads(v.read_text()) for k, v in paths.items()}\n",
    "out_dir = Path(f\"out/graphs/{'-'.join(paths.keys())}\")\n",
    "out_dir.mkdir(exist_ok=True, parents=True)"
   ]
  },
  {
   "cell_type": "code",
   "execution_count": null,
   "metadata": {},
   "outputs": [],
   "source": [
    "# Eigenspectrum\n",
    "fig, axs = sized_subplots()\n",
    "for name, m in metrics.items():\n",
    "    eigenspectrum = np.array(m[\"eigenspectrum\"])\n",
    "    sns.lineplot(\n",
    "        x=np.arange(1, eigenspectrum.size + 1),\n",
    "        y=eigenspectrum,\n",
    "        label=name,\n",
    "        ax=axs[0, 0],\n",
    "    )\n",
    "_ = axs[0, 0].set(\n",
    "    title=\"Eigenspectrum of the undirected, normalised Laplacian\",\n",
    "    xlabel=\"$i$\\\\textsuperscript{th} eigenvalue\",\n",
    "    ylabel=\"Value\",\n",
    "    xscale=\"log\",\n",
    ")\n",
    "# fig.savefig(out_dir / \"eigenspectrum.pdf\")"
   ]
  },
  {
   "cell_type": "code",
   "execution_count": null,
   "metadata": {},
   "outputs": [],
   "source": [
    "# Centrality spectrum\n",
    "fig, axs = sized_subplots()\n",
    "for name, m in metrics.items():\n",
    "    centrality_spectrum = [c for n, c in m[\"central_nodes\"]]\n",
    "    sns.lineplot(\n",
    "        x=np.arange(1, len(centrality_spectrum) + 1),\n",
    "        y=centrality_spectrum,\n",
    "        label=name,\n",
    "        ax=axs[0, 0],\n",
    "    )\n",
    "_ = axs[0, 0].set(\n",
    "    title=\"Centrality of nodes\",\n",
    "    xlabel=\"$i$\\textsuperscript{th} most central node\",\n",
    "    ylabel=\"Betweeness centrality\",\n",
    "    xscale=\"log\",\n",
    "    yscale=\"log\",\n",
    ")\n",
    "# fig.savefig(out_dir / \"centrality_spectrum.pdf\")"
   ]
  },
  {
   "cell_type": "code",
   "execution_count": null,
   "metadata": {},
   "outputs": [],
   "source": [
    "# In- and out-degree distributions\n",
    "fig, axs = sized_subplots(2, 2)\n",
    "dfs = []\n",
    "for name, m in metrics.items():\n",
    "    dfs.append(\n",
    "        pd.DataFrame(\n",
    "            {\"Name\": name, \"in_degree\": m[\"in_degree\"], \"out_degree\": m[\"out_degree\"]}\n",
    "        )\n",
    "    )\n",
    "df = pd.concat(dfs)\n",
    "_ = sns.histplot(data=df, x=\"in_degree\", hue=\"Name\", ax=axs[0, 0], bins=40)\n",
    "_ = sns.histplot(data=df, x=\"out_degree\", hue=\"Name\", ax=axs[0, 1], bins=40)\n",
    "_ = axs[0, 0].set(\n",
    "    title=\"In-degree distribution\",\n",
    "    xlabel=\"In-degree\",\n",
    "    ylabel=\"Frequency\",\n",
    "    yscale=\"log\",\n",
    ")\n",
    "_ = axs[0, 1].set(\n",
    "    title=\"Out-degree distribution\",\n",
    "    xlabel=\"Out-degree\",\n",
    "    ylabel=\"Frequency\",\n",
    "    yscale=\"log\",\n",
    ")\n",
    "# fig.savefig(out_dir / \"degree_distributions.pdf\")"
   ]
  },
  {
   "cell_type": "code",
   "execution_count": null,
   "metadata": {},
   "outputs": [],
   "source": [
    "# Component size distribution\n",
    "fig, axs = sized_subplots(2, 2)\n",
    "for ax, key in zip(axs.flat, [\"weakly_connected\", \"strongly_connected\"]):\n",
    "    dfs = []\n",
    "    for name, m in metrics.items():\n",
    "        dfs.append(pd.DataFrame({\"Name\": name, key: m[key]}))\n",
    "    df = pd.concat(dfs)\n",
    "    _ = sns.histplot(data=df, x=key, hue=\"Name\", ax=ax, bins=40)\n",
    "_ = axs[0, 0].set(\n",
    "    title=\"Weakly connected component size distribution\",\n",
    "    xlabel=\"Size\",\n",
    "    ylabel=\"Frequency\",\n",
    "    yscale=\"log\",\n",
    ")\n",
    "_ = axs[0, 1].set(\n",
    "    title=\"Strongly connected component size distribution\",\n",
    "    xlabel=\"Size\",\n",
    "    ylabel=\"Frequency\",\n",
    "    yscale=\"log\",\n",
    ")\n",
    "# fig.savefig(out_dir / \"component_size_distributions.pdf\")"
   ]
  },
  {
   "cell_type": "code",
   "execution_count": null,
   "metadata": {},
   "outputs": [],
   "source": [
    "# Distance distribution\n",
    "dfs = []\n",
    "for name, m in metrics.items():\n",
    "    dfs.append(pd.DataFrame({\"Name\": name, \"distance\": m[\"distance\"]}))\n",
    "df = pd.concat(dfs)\n",
    "\n",
    "fig, axs = sized_subplots()\n",
    "sns.histplot(\n",
    "    data=df,\n",
    "    x=\"distance\",\n",
    "    hue=\"Name\",\n",
    "    stat=\"probability\",\n",
    "    discrete=True,\n",
    "    common_norm=False,\n",
    "    ax=axs[0, 0],\n",
    "    bins=40,\n",
    ")\n",
    "_ = axs[0, 0].set(\n",
    "    title=\"Distance distribution\",\n",
    "    xlabel=\"Distance\",\n",
    "    ylabel=\"Probability\",\n",
    ")"
   ]
  },
  {
   "cell_type": "code",
   "execution_count": null,
   "metadata": {},
   "outputs": [],
   "source": [
    "# Numerical metrics\n",
    "# keys = [\"num_nodes\", \"num_edges\", \"density\", \"diameter\"]\n",
    "data = []\n",
    "for name, m in metrics.items():\n",
    "    data.append(\n",
    "        {\n",
    "            \"Name\": name,\n",
    "            \"Root\": m[\"central_nodes\"][0][0],\n",
    "            \"Nodes\": m[\"num_nodes\"],\n",
    "            \"Edges\": m[\"num_edges\"],\n",
    "            \"Density\": m[\"density\"],\n",
    "            \"Diameter (est)\": m[\"diameter\"],\n",
    "            \"lambda_2\": m[\"eigenspectrum\"][1],\n",
    "        }\n",
    "    )\n",
    "df = pd.DataFrame(data)\n",
    "df"
   ]
  }
 ],
 "metadata": {
  "kernelspec": {
   "display_name": "Python 3",
   "language": "python",
   "name": "python3"
  },
  "language_info": {
   "codemirror_mode": {
    "name": "ipython",
    "version": 3
   },
   "file_extension": ".py",
   "mimetype": "text/x-python",
   "name": "python",
   "nbconvert_exporter": "python",
   "pygments_lexer": "ipython3",
   "version": "3.11.7"
  }
 },
 "nbformat": 4,
 "nbformat_minor": 2
}
