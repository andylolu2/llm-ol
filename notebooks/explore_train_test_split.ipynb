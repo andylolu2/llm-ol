{
 "cells": [
  {
   "cell_type": "code",
   "execution_count": null,
   "metadata": {},
   "outputs": [],
   "source": [
    "%load_ext autoreload\n",
    "%autoreload 2"
   ]
  },
  {
   "cell_type": "code",
   "execution_count": null,
   "metadata": {},
   "outputs": [],
   "source": [
    "import json\n",
    "import re\n",
    "from pathlib import Path\n",
    "from collections import defaultdict\n",
    "\n",
    "import pandas as pd\n",
    "import numpy as np"
   ]
  },
  {
   "cell_type": "code",
   "execution_count": null,
   "metadata": {},
   "outputs": [],
   "source": [
    "train_file = Path(\"out/experiments/finetune/depth_3/train_samples.jsonl\")\n",
    "test_file = Path(\"out/experiments/finetune/depth_3/test_samples.jsonl\")"
   ]
  },
  {
   "cell_type": "code",
   "execution_count": null,
   "metadata": {},
   "outputs": [],
   "source": [
    "def count_nodes(file):\n",
    "    nodes = defaultdict(int)\n",
    "    with open(file, \"r\") as f:\n",
    "        for line in f:\n",
    "            data = json.loads(line)[\"response\"]\n",
    "            assert len(data.split(\"\\n\")) > 1, data\n",
    "            for line in data.split(\"\\n\"):\n",
    "                if line == \"\":\n",
    "                    continue\n",
    "                assert len(line.split(\" > \")) >= 2, data\n",
    "                for node in line.split(\" > \"):\n",
    "                    nodes[node] += 1\n",
    "    return nodes"
   ]
  },
  {
   "cell_type": "code",
   "execution_count": null,
   "metadata": {},
   "outputs": [],
   "source": [
    "train_count = count_nodes(train_file)\n",
    "test_count = count_nodes(test_file)"
   ]
  },
  {
   "cell_type": "code",
   "execution_count": null,
   "metadata": {},
   "outputs": [],
   "source": [
    "intersection = set(train_count.keys()) & set(test_count.keys())\n",
    "train_only = set(train_count.keys()) - set(test_count.keys())\n",
    "test_only = set(test_count.keys()) - set(train_count.keys())\n",
    "\n",
    "\n",
    "def print_top_samples(node_set, k):\n",
    "    node_counts = {k: train_count.get(k, 0) + test_count.get(k, 0) for k in node_set}\n",
    "    top_k = sorted(node_counts.keys(), key=lambda k: node_counts[k], reverse=True)[:k]\n",
    "    df = pd.DataFrame({\"node\": top_k, \"count\": [node_counts[node] for node in top_k]})\n",
    "    df.set_index(\"node\", inplace=True)\n",
    "    display(df)\n",
    "\n",
    "\n",
    "print(\"Intersection:\")\n",
    "print_top_samples(intersection, 20)\n",
    "\n",
    "print(\"\\nTrain only:\")\n",
    "print_top_samples(train_only, 20)\n",
    "\n",
    "print(\"\\nTest only:\")\n",
    "print_top_samples(test_only, 20)"
   ]
  }
 ],
 "metadata": {
  "kernelspec": {
   "display_name": "Python 3",
   "language": "python",
   "name": "python3"
  },
  "language_info": {
   "codemirror_mode": {
    "name": "ipython",
    "version": 3
   },
   "file_extension": ".py",
   "mimetype": "text/x-python",
   "name": "python",
   "nbconvert_exporter": "python",
   "pygments_lexer": "ipython3",
   "version": "3.11.7"
  }
 },
 "nbformat": 4,
 "nbformat_minor": 2
}
