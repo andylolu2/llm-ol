{
 "cells": [
  {
   "cell_type": "code",
   "execution_count": null,
   "metadata": {},
   "outputs": [],
   "source": [
    "%load_ext autoreload\n",
    "%autoreload 2"
   ]
  },
  {
   "cell_type": "code",
   "execution_count": null,
   "metadata": {},
   "outputs": [],
   "source": [
    "# unset OMP_NUM_THREADS\n",
    "import os\n",
    "\n",
    "if \"OMP_NUM_THREADS\" in os.environ:\n",
    "    del os.environ[\"OMP_NUM_THREADS\"]"
   ]
  },
  {
   "cell_type": "code",
   "execution_count": null,
   "metadata": {},
   "outputs": [],
   "source": [
    "from pathlib import Path\n",
    "\n",
    "from llm_ol.llm.cpu import load_mistral_instruct"
   ]
  },
  {
   "cell_type": "code",
   "execution_count": null,
   "metadata": {},
   "outputs": [],
   "source": [
    "model_path = Path(\"/ramdisks/mistral-7b-instruct-v0.2.Q4_K_M.gguf\")\n",
    "lm = load_mistral_instruct(model_path, n_threads=8, n_gpu_layers=0, use_mlock=True)"
   ]
  },
  {
   "cell_type": "code",
   "execution_count": null,
   "metadata": {},
   "outputs": [],
   "source": [
    "from llm_ol.dataset import data_model\n",
    "\n",
    "G = data_model.load_graph(\"out/data/wikipedia/v1/full/graph_depth_3.json\")"
   ]
  },
  {
   "cell_type": "code",
   "execution_count": null,
   "metadata": {},
   "outputs": [],
   "source": [
    "items = {}\n",
    "for node, data in G.nodes(data=True):\n",
    "    for page in data[\"pages\"]:\n",
    "        if page[\"id\"] not in items:\n",
    "            items[page[\"id\"]] = {**page, \"categories\": [node]}\n",
    "        else:\n",
    "            items[page[\"id\"]][\"categories\"].append(node)"
   ]
  },
  {
   "cell_type": "code",
   "execution_count": null,
   "metadata": {},
   "outputs": [],
   "source": [
    "import random\n",
    "from llm_ol.experiments.prompting.create_hierarchy import create_hierarchy\n",
    "\n",
    "item = random.choice(list(items.values()))\n",
    "out = lm + create_hierarchy(item[\"title\"], item[\"abstract\"])"
   ]
  },
  {
   "cell_type": "code",
   "execution_count": null,
   "metadata": {},
   "outputs": [],
   "source": [
    "categories = set()\n",
    "\n",
    "result = []\n",
    "\n",
    "for _ in range(3):\n",
    "    item = random.choice(items)\n",
    "    out = lm + categorise_article_top_down(\n",
    "        item[\"title\"], item[\"abstract\"], list(categories)\n",
    "    )\n",
    "    categories.update(out[\"cats\"])\n",
    "    result.append((item, out[\"cats\"]))"
   ]
  },
  {
   "cell_type": "code",
   "execution_count": null,
   "metadata": {},
   "outputs": [],
   "source": [
    "import json\n",
    "\n",
    "with open(\"out/experiments/prompting/dev/categoried_pages.jsonl\") as f:\n",
    "    results = [json.loads(line) for line in f]"
   ]
  },
  {
   "cell_type": "code",
   "execution_count": null,
   "metadata": {},
   "outputs": [],
   "source": [
    "from collections import defaultdict\n",
    "\n",
    "categories = defaultdict(list)\n",
    "for page in results:\n",
    "    for cat in page[\"categories\"]:\n",
    "        categories[cat].append(page)"
   ]
  },
  {
   "cell_type": "code",
   "execution_count": null,
   "metadata": {},
   "outputs": [],
   "source": [
    "import matplotlib.pyplot as plt\n",
    "\n",
    "plt.hist([len(v) for v in categories.values()], bins=20, log=True)"
   ]
  },
  {
   "cell_type": "code",
   "execution_count": null,
   "metadata": {},
   "outputs": [],
   "source": [
    "import random\n",
    "import guidance\n",
    "\n",
    "item = random.choice(list(items.values()))\n",
    "print(item)\n",
    "\n",
    "s = \"\"\"The following is an article's title and abstract. Your task is to assign this article to suitable category hierarchy. \\\n",
    "A category is typically represented by a word or a short phrase, representing broader topics/concepts that the article is about. \\\n",
    "A category hierarchy is a directed acyclic graph that starts with a detailed categorisation and becomes more and more \\\n",
    "general higher up the hierarchy, until it reaches the special base category \"Main topic classification\".\n",
    "\n",
    "An example hierarchy for an article on \"Single whip law\" might be have the following category hierarchy:\n",
    "\n",
    "```txt\n",
    "Main topic classifications -> Economy -> Economic history -> History of taxation\n",
    "Main topic classifications -> Law -> Law by issue -> Legal history by issue -> History of taxation\n",
    "Main topic classifications -> Law -> Law by issue -> Tax law\n",
    "Main topic classifications -> Law -> Law stubs -> Asian law stubs\n",
    "Main topic classifications -> Politics -> Political history -> History of taxation\n",
    "```\n",
    "\n",
    "Another example hierarchy for an article on \"Stoning\" is:\n",
    "\n",
    "```txt\n",
    "Main topic classifications -> Human behavior -> Abuse -> Cruelty -> Torture\n",
    "Main topic classifications -> Human behavior -> Violence -> Torture\n",
    "Main topic classifications -> Law -> Law-related events -> Crimes -> Torture\n",
    "Main topic classifications -> Law -> Legal aspects of death -> Killings by type\n",
    "Main topic classifications -> Society -> Violence -> Torture\n",
    "```\"\"\" + \"\"\"\n",
    "\n",
    "Title: {title}\n",
    "{abstract}\n",
    "\n",
    "Provide a category hierarchy for the above article. Use the same format as the examples above.\n",
    "\"\"\".format(\n",
    "    **item\n",
    ")\n",
    "\n",
    "with guidance.instruction():\n",
    "    out = lm + s\n",
    "out += \"```txt\\n\"\n",
    "out += guidance.gen(name=\"hierarchy\", max_tokens=500, stop=\"```\")"
   ]
  },
  {
   "cell_type": "code",
   "execution_count": null,
   "metadata": {},
   "outputs": [],
   "source": [
    "import json\n",
    "\n",
    "results = []\n",
    "with open(\"out/experiments/prompting/dev-h/categoried_pages.jsonl\") as f:\n",
    "    for line in f:\n",
    "        item = json.loads(line)\n",
    "        try:\n",
    "            item[\"hierarchy\"] = json.loads(item[\"hierarchy\"])\n",
    "        except json.JSONDecodeError:\n",
    "            print(f\"Failed to parse hierarchy for {item['title']}\")\n",
    "            item[\"hierarchy\"] = None\n",
    "        results.append(item)"
   ]
  },
  {
   "cell_type": "code",
   "execution_count": null,
   "metadata": {},
   "outputs": [],
   "source": [
    "import networkx as nx\n",
    "\n",
    "G = nx.DiGraph()\n",
    "\n",
    "\n",
    "def walk_hierarchy(hierarchy: dict):\n",
    "    for parent, sub_hierarchy in hierarchy.items():\n",
    "        if sub_hierarchy == \"LEAF\":\n",
    "            continue\n",
    "        elif isinstance(sub_hierarchy, dict):\n",
    "            for child in sub_hierarchy:\n",
    "                G.add_edge(parent, child)\n",
    "            walk_hierarchy(sub_hierarchy)\n",
    "        else:\n",
    "            print(f\"Unknown type {parent} -> {sub_hierarchy}\")\n",
    "\n",
    "\n",
    "for item in results:\n",
    "    if item[\"hierarchy\"] is not None:\n",
    "        walk_hierarchy(item[\"hierarchy\"])"
   ]
  },
  {
   "cell_type": "code",
   "execution_count": null,
   "metadata": {},
   "outputs": [],
   "source": [
    "import random\n",
    "\n",
    "# show random subgraphs\n",
    "random_root = random.choice(list(G.nodes))\n",
    "while not (5 < len(random_subgraph := nx.ego_graph(G, random_root, radius=2)) < 30):\n",
    "    random_root = random.choice(list(G.nodes))\n",
    "# fig, ax = plt.subplots(figsize=(6, 6))\n",
    "# nx.draw_networkx(random_subgraph, with_labels=True, ax=ax, pos=nx.circular_layout(random_subgraph))\n",
    "# ax.set(title=f\"Random subgraph of {random_root}\")\n",
    "\n",
    "print(random_root)\n",
    "A = nx.drawing.nx_agraph.to_agraph(random_subgraph)\n",
    "A.layout(\"fdp\")\n",
    "A.draw(f\"out/experiments/prompting/dev-h/visualisation/{random_root}.png\")\n",
    "A"
   ]
  },
  {
   "cell_type": "code",
   "execution_count": null,
   "metadata": {},
   "outputs": [],
   "source": [
    "import random\n",
    "import networkx as nx\n",
    "from llm_ol.dataset.wikipedia import ROOT_CATEGORY_ID"
   ]
  },
  {
   "cell_type": "code",
   "execution_count": null,
   "metadata": {},
   "outputs": [],
   "source": [
    "random_leaf = random.choice(list(G.nodes))\n",
    "print(G.nodes[random_leaf][\"title\"])\n",
    "\n",
    "i = 0\n",
    "for path in nx.shortest_simple_paths(G, ROOT_CATEGORY_ID, random_leaf):\n",
    "    names = [G.nodes[node][\"title\"] for node in path]\n",
    "    print(\" -> \".join(names))\n",
    "    i += 1\n",
    "    if i > 10:\n",
    "        break"
   ]
  },
  {
   "cell_type": "code",
   "execution_count": null,
   "metadata": {},
   "outputs": [],
   "source": [
    "def hierarchy(node, n: int):\n",
    "    paths = []\n",
    "    G_sub = nx.DiGraph()\n",
    "    i = 0\n",
    "    for path in nx.shortest_simple_paths(G, ROOT_CATEGORY_ID, node):\n",
    "        names = [G.nodes[node][\"title\"] for node in path]\n",
    "        paths.append(names)\n",
    "        for parent, child in zip(names[:-1], names[1:]):\n",
    "            G_sub.add_edge(parent, child)\n",
    "        i += 1\n",
    "        if i > n:\n",
    "            break\n",
    "    return paths"
   ]
  },
  {
   "cell_type": "code",
   "execution_count": null,
   "metadata": {},
   "outputs": [],
   "source": [
    "def paths_to_root(page, n: int):\n",
    "    for category in page[\"categories\"]:\n",
    "        G.add_edge(category, page[\"id\"])\n",
    "\n",
    "    try:\n",
    "        paths = []\n",
    "        for i, path in enumerate(\n",
    "            nx.shortest_simple_paths(G, ROOT_CATEGORY_ID, page[\"id\"])\n",
    "        ):\n",
    "            names = tuple(G.nodes[node][\"title\"] for node in path[:-1])\n",
    "            paths.append(names)\n",
    "            if i > n:\n",
    "                break\n",
    "    finally:\n",
    "        G.remove_node(page[\"id\"])\n",
    "\n",
    "    # sort lexicographically\n",
    "    return sorted(paths, key=lambda x: x)"
   ]
  },
  {
   "cell_type": "code",
   "execution_count": null,
   "metadata": {},
   "outputs": [],
   "source": [
    "import json\n",
    "\n",
    "item = random.choice(list(items.values()))\n",
    "print(item[\"title\"])\n",
    "for path in paths_to_root(item, 3):\n",
    "    print(\" -> \".join(path))\n",
    "# n = random.choice(list(G.nodes))\n",
    "# print(G.nodes[n][\"title\"])\n",
    "\n",
    "# # G_sub = hierarchy(n, 5)\n",
    "# # A = nx.nx_agraph.to_agraph(G_sub)\n",
    "# # print(A.to_string())\n",
    "\n",
    "# for path in hierarchy(n, 5):\n",
    "#     print(\" -> \".join(path))\n",
    "\n",
    "# # print(nx.to_latex_raw(G_sub))\n",
    "\n",
    "# # A.layout(\"dot\")\n",
    "# # A"
   ]
  }
 ],
 "metadata": {
  "kernelspec": {
   "display_name": "Python 3",
   "language": "python",
   "name": "python3"
  },
  "language_info": {
   "codemirror_mode": {
    "name": "ipython",
    "version": 3
   },
   "file_extension": ".py",
   "mimetype": "text/x-python",
   "name": "python",
   "nbconvert_exporter": "python",
   "pygments_lexer": "ipython3",
   "version": "3.11.7"
  }
 },
 "nbformat": 4,
 "nbformat_minor": 2
}
