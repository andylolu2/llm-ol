{
 "cells": [
  {
   "cell_type": "code",
   "execution_count": null,
   "metadata": {},
   "outputs": [],
   "source": [
    "%load_ext autoreload\n",
    "%autoreload 2"
   ]
  },
  {
   "cell_type": "code",
   "execution_count": null,
   "metadata": {},
   "outputs": [],
   "source": [
    "# unset OMP_NUM_THREADS\n",
    "import os\n",
    "\n",
    "if \"OMP_NUM_THREADS\" in os.environ:\n",
    "    del os.environ[\"OMP_NUM_THREADS\"]"
   ]
  },
  {
   "cell_type": "code",
   "execution_count": null,
   "metadata": {},
   "outputs": [],
   "source": [
    "from pathlib import Path\n",
    "\n",
    "from llm_ol.llm.cpu import load_mistral_instruct"
   ]
  },
  {
   "cell_type": "code",
   "execution_count": null,
   "metadata": {},
   "outputs": [],
   "source": [
    "model_path = Path(\"/ramdisks/mistral-7b-instruct-v0.2.Q4_K_M.gguf\")\n",
    "lm = load_mistral_instruct(model_path, n_threads=32, n_gpu_layers=-1)"
   ]
  },
  {
   "cell_type": "code",
   "execution_count": null,
   "metadata": {},
   "outputs": [],
   "source": [
    "from llm_ol.dataset.wikipedia import load_dataset\n",
    "\n",
    "G = load_dataset(\"out/data/wikipedia/v1/full/full_graph.json\", max_depth=1)"
   ]
  },
  {
   "cell_type": "code",
   "execution_count": null,
   "metadata": {},
   "outputs": [],
   "source": [
    "items = []\n",
    "for _, data in G.nodes(data=True):\n",
    "    for page in data[\"pages\"]:\n",
    "        items.append({\"title\": page[\"title\"], \"abstract\": page[\"abstract\"]})"
   ]
  },
  {
   "cell_type": "code",
   "execution_count": null,
   "metadata": {},
   "outputs": [],
   "source": [
    "import random\n",
    "from llm_ol.experiments.prompting.create_hierarchy import create_hierarchy\n",
    "\n",
    "item = random.choice(items)\n",
    "out = lm + create_hierarchy(item[\"title\"], item[\"abstract\"])"
   ]
  },
  {
   "cell_type": "code",
   "execution_count": null,
   "metadata": {},
   "outputs": [],
   "source": [
    "from llm_ol.llm.templates.categorise_article import categorise_article_top_down\n",
    "\n",
    "item"
   ]
  },
  {
   "cell_type": "code",
   "execution_count": null,
   "metadata": {},
   "outputs": [],
   "source": [
    "categories = set()\n",
    "\n",
    "result = []\n",
    "\n",
    "for _ in range(3):\n",
    "    item = random.choice(items)\n",
    "    out = lm + categorise_article_top_down(\n",
    "        item[\"title\"], item[\"abstract\"], list(categories)\n",
    "    )\n",
    "    categories.update(out[\"cats\"])\n",
    "    result.append((item, out[\"cats\"]))"
   ]
  },
  {
   "cell_type": "code",
   "execution_count": null,
   "metadata": {},
   "outputs": [],
   "source": [
    "import json\n",
    "\n",
    "with open(\"out/experiments/prompting/dev/categoried_pages.jsonl\") as f:\n",
    "    results = [json.loads(line) for line in f]"
   ]
  },
  {
   "cell_type": "code",
   "execution_count": null,
   "metadata": {},
   "outputs": [],
   "source": [
    "from collections import defaultdict\n",
    "\n",
    "categories = defaultdict(list)\n",
    "for page in results:\n",
    "    for cat in page[\"categories\"]:\n",
    "        categories[cat].append(page)"
   ]
  },
  {
   "cell_type": "code",
   "execution_count": null,
   "metadata": {},
   "outputs": [],
   "source": [
    "import matplotlib.pyplot as plt\n",
    "\n",
    "plt.hist([len(v) for v in categories.values()], bins=20, log=True)"
   ]
  },
  {
   "cell_type": "code",
   "execution_count": null,
   "metadata": {},
   "outputs": [],
   "source": [
    "import random\n",
    "import guidance\n",
    "\n",
    "item = random.choice(items)\n",
    "print(item)\n",
    "\n",
    "s = \"\"\"The following is an article's title and abstract. Your task is to assign this article to suitable category hierarchy. \\\n",
    "A category is typically represented by a word or a short phrase, representing broader topics/concepts that the article is about. \\\n",
    "A category hierarchy is a directed acyclic graph that starts with a detailed categorisation and becomes more and more \\\n",
    "general higher up the hierarchy, until it reaches the special base category \"ROOT\".\n",
    "\n",
    "An example hierarchy for an article on \"Addition\" might be have the following category hierarchy:\n",
    "\n",
    "```json\n",
    "{\n",
    "    \"ROOT\": {\n",
    "        \"Mathematics\": {\n",
    "            \"Mathematical notation\": \"LEAF\"\n",
    "        },\n",
    "        \"Entities\": {\n",
    "            \"Systems\": {\n",
    "                \"Notation\": {\n",
    "                    \"Mathematical notation\": \"LEAF\"\n",
    "                }\n",
    "            }\n",
    "        }\n",
    "    }\n",
    "}\n",
    "```\"\"\" + \"\"\"\n",
    "Title: {title}\n",
    "{abstract}\n",
    "\"\"\".format(\n",
    "    **item\n",
    ")\n",
    "\n",
    "with guidance.instruction():\n",
    "    out = lm + s\n",
    "out += \"```json\\n\"\n",
    "out += guidance.gen(name=\"hierarchy\", max_tokens=500, stop=\"```\")"
   ]
  },
  {
   "cell_type": "code",
   "execution_count": null,
   "metadata": {},
   "outputs": [],
   "source": [
    "import json\n",
    "\n",
    "results = []\n",
    "with open(\"out/experiments/prompting/dev-h/categoried_pages.jsonl\") as f:\n",
    "    for line in f:\n",
    "        item = json.loads(line)\n",
    "        try:\n",
    "            item[\"hierarchy\"] = json.loads(item[\"hierarchy\"])\n",
    "        except json.JSONDecodeError:\n",
    "            print(f\"Failed to parse hierarchy for {item['title']}\")\n",
    "            item[\"hierarchy\"] = None\n",
    "        results.append(item)"
   ]
  },
  {
   "cell_type": "code",
   "execution_count": null,
   "metadata": {},
   "outputs": [],
   "source": [
    "import networkx as nx\n",
    "\n",
    "G = nx.DiGraph()\n",
    "\n",
    "\n",
    "def walk_hierarchy(hierarchy: dict):\n",
    "    for parent, sub_hierarchy in hierarchy.items():\n",
    "        if sub_hierarchy == \"LEAF\":\n",
    "            continue\n",
    "        elif isinstance(sub_hierarchy, dict):\n",
    "            for child in sub_hierarchy:\n",
    "                G.add_edge(parent, child)\n",
    "            walk_hierarchy(sub_hierarchy)\n",
    "        else:\n",
    "            print(f\"Unknown type {parent} -> {sub_hierarchy}\")\n",
    "\n",
    "\n",
    "for item in results:\n",
    "    if item[\"hierarchy\"] is not None:\n",
    "        walk_hierarchy(item[\"hierarchy\"])"
   ]
  },
  {
   "cell_type": "code",
   "execution_count": null,
   "metadata": {},
   "outputs": [],
   "source": [
    "import random\n",
    "\n",
    "# show random subgraphs\n",
    "random_root = random.choice(list(G.nodes))\n",
    "while not (5 < len(random_subgraph := nx.ego_graph(G, random_root, radius=2)) < 30):\n",
    "    random_root = random.choice(list(G.nodes))\n",
    "# fig, ax = plt.subplots(figsize=(6, 6))\n",
    "# nx.draw_networkx(random_subgraph, with_labels=True, ax=ax, pos=nx.circular_layout(random_subgraph))\n",
    "# ax.set(title=f\"Random subgraph of {random_root}\")\n",
    "\n",
    "print(random_root)\n",
    "A = nx.drawing.nx_agraph.to_agraph(random_subgraph)\n",
    "A.layout(\"fdp\")\n",
    "A.draw(f\"out/experiments/prompting/dev-h/visualisation/{random_root}.png\")\n",
    "A"
   ]
  }
 ],
 "metadata": {
  "kernelspec": {
   "display_name": "Python 3",
   "language": "python",
   "name": "python3"
  },
  "language_info": {
   "codemirror_mode": {
    "name": "ipython",
    "version": 3
   },
   "file_extension": ".py",
   "mimetype": "text/x-python",
   "name": "python",
   "nbconvert_exporter": "python",
   "pygments_lexer": "ipython3",
   "version": "3.11.7"
  }
 },
 "nbformat": 4,
 "nbformat_minor": 2
}
