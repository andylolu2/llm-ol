{
 "cells": [
  {
   "cell_type": "code",
   "execution_count": null,
   "metadata": {},
   "outputs": [],
   "source": [
    "%load_ext autoreload\n",
    "%autoreload 2"
   ]
  },
  {
   "cell_type": "code",
   "execution_count": null,
   "metadata": {},
   "outputs": [],
   "source": [
    "# unset OMP_NUM_THREADS\n",
    "import os\n",
    "\n",
    "if \"OMP_NUM_THREADS\" in os.environ:\n",
    "    del os.environ[\"OMP_NUM_THREADS\"]"
   ]
  },
  {
   "cell_type": "code",
   "execution_count": null,
   "metadata": {},
   "outputs": [],
   "source": [
    "from pathlib import Path\n",
    "\n",
    "from llm_ol.llm.cpu import load_mistral_instruct"
   ]
  },
  {
   "cell_type": "code",
   "execution_count": null,
   "metadata": {},
   "outputs": [],
   "source": [
    "model_path = Path(\"/ramdisks/mistral-7b-instruct-v0.2.Q4_K_M.gguf\")\n",
    "lm = load_mistral_instruct(model_path, n_threads=16)"
   ]
  },
  {
   "cell_type": "code",
   "execution_count": null,
   "metadata": {},
   "outputs": [],
   "source": [
    "from llm_ol.dataset.wikipedia import load_dataset\n",
    "\n",
    "G = load_dataset(\"out/data/wikipedia/v1/full/full_graph.json\", max_depth=1)"
   ]
  },
  {
   "cell_type": "code",
   "execution_count": null,
   "metadata": {},
   "outputs": [],
   "source": [
    "items = []\n",
    "for _, data in G.nodes(data=True):\n",
    "    for page in data[\"pages\"]:\n",
    "        items.append({\"title\": page[\"title\"], \"abstract\": page[\"abstract\"]})"
   ]
  },
  {
   "cell_type": "code",
   "execution_count": null,
   "metadata": {},
   "outputs": [],
   "source": [
    "import random\n",
    "from llm_ol.llm.templates.categorise_article import categorise_article\n",
    "\n",
    "item = random.choice(items)\n",
    "out = lm + categorise_article(item[\"title\"], item[\"abstract\"])"
   ]
  },
  {
   "cell_type": "code",
   "execution_count": null,
   "metadata": {},
   "outputs": [],
   "source": [
    "from llm_ol.llm.templates.categorise_article import categorise_article_top_down\n",
    "\n",
    "item"
   ]
  },
  {
   "cell_type": "code",
   "execution_count": null,
   "metadata": {},
   "outputs": [],
   "source": [
    "categories = set()\n",
    "\n",
    "result = []\n",
    "\n",
    "for _ in range(3):\n",
    "    item = random.choice(items)\n",
    "    out = lm + categorise_article_top_down(\n",
    "        item[\"title\"], item[\"abstract\"], list(categories)\n",
    "    )\n",
    "    categories.update(out[\"cats\"])\n",
    "    result.append((item, out[\"cats\"]))"
   ]
  },
  {
   "cell_type": "code",
   "execution_count": null,
   "metadata": {},
   "outputs": [],
   "source": [
    "for item, cats in result:\n",
    "    print(item[\"title\"])\n",
    "    print(cats)\n",
    "    print()"
   ]
  }
 ],
 "metadata": {
  "kernelspec": {
   "display_name": "Python 3",
   "language": "python",
   "name": "python3"
  },
  "language_info": {
   "codemirror_mode": {
    "name": "ipython",
    "version": 3
   },
   "file_extension": ".py",
   "mimetype": "text/x-python",
   "name": "python",
   "nbconvert_exporter": "python",
   "pygments_lexer": "ipython3",
   "version": "3.11.7"
  }
 },
 "nbformat": 4,
 "nbformat_minor": 2
}
