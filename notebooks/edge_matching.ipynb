{
 "cells": [
  {
   "cell_type": "code",
   "execution_count": null,
   "metadata": {
    "metadata": {}
   },
   "outputs": [],
   "source": [
    "%load_ext autoreload\n",
    "%autoreload 2"
   ]
  },
  {
   "cell_type": "code",
   "execution_count": null,
   "metadata": {
    "metadata": {}
   },
   "outputs": [],
   "source": [
    "%env OMP_NUM_THREADS=16"
   ]
  },
  {
   "cell_type": "code",
   "execution_count": null,
   "metadata": {
    "metadata": {}
   },
   "outputs": [],
   "source": [
    "import dotenv\n",
    "\n",
    "import torch\n",
    "from absl import logging\n",
    "\n",
    "from llm_ol.llm.embed import embed, load_embedding_model\n",
    "from llm_ol.dataset import data_model\n",
    "from llm_ol.utils import batch, textqdm\n",
    "\n",
    "dotenv.load_dotenv()\n",
    "logging.set_verbosity(logging.INFO)"
   ]
  },
  {
   "cell_type": "code",
   "execution_count": null,
   "metadata": {
    "metadata": {}
   },
   "outputs": [],
   "source": [
    "G = data_model.load_graph(\"out/data/wikipedia/v2/train_eval_split/test_graph.json\")"
   ]
  },
  {
   "cell_type": "code",
   "execution_count": null,
   "metadata": {
    "metadata": {}
   },
   "outputs": [],
   "source": [
    "embedder, tokenizer = load_embedding_model()"
   ]
  },
  {
   "cell_type": "code",
   "execution_count": null,
   "metadata": {
    "metadata": {}
   },
   "outputs": [],
   "source": [
    "embeddings = {}\n",
    "\n",
    "for nodes in batch(textqdm(G.nodes), 100):\n",
    "    texts = [G.nodes[n][\"title\"] for n in nodes]\n",
    "    embeds = embed(texts, embedder, tokenizer)\n",
    "    for n, e in zip(nodes, embeds):\n",
    "        embeddings[n] = e"
   ]
  },
  {
   "cell_type": "code",
   "execution_count": null,
   "metadata": {
    "metadata": {}
   },
   "outputs": [],
   "source": [
    "# a1, b1 = \"Leaders of the world\", \"Presidents of the United States\"\n",
    "# a2, b2 = b1, a1\n",
    "# a2, b2 = \"World leaders\", \"US Presidents\"\n",
    "\n",
    "\n",
    "# def edge_sim_v1(u1, v1, u2, v2):\n",
    "#     ex1_emb = embed(u1, embedder, tokenizer) + orth @ embed(v1, embedder, tokenizer)\n",
    "#     ex2_emb = embed(u2, embedder, tokenizer) + orth @ embed(v2, embedder, tokenizer)\n",
    "#     sim = torch.nn.functional.cosine_similarity(ex1_emb, ex2_emb, dim=-1)\n",
    "#     return sim\n",
    "\n",
    "\n",
    "def edge_sim_v2(edges1, edges2):\n",
    "    u1_emb = torch.stack([embeddings[u1] for u1, _ in edges1])\n",
    "    v1_emb = torch.stack([embeddings[v1] for _, v1 in edges1])\n",
    "    u2_emb = torch.stack([embeddings[u2] for u2, _ in edges2])\n",
    "    v2_emb = torch.stack([embeddings[v2] for _, v2 in edges2])\n",
    "    u1_emb = u1_emb / u1_emb.norm(dim=-1, keepdim=True)\n",
    "    v1_emb = v1_emb / v1_emb.norm(dim=-1, keepdim=True)\n",
    "    u2_emb = u2_emb / u2_emb.norm(dim=-1, keepdim=True)\n",
    "    v2_emb = v2_emb / v2_emb.norm(dim=-1, keepdim=True)\n",
    "    sim_1 = u1_emb @ u2_emb.T\n",
    "    sim_2 = v1_emb @ v2_emb.T\n",
    "    return sim_1 * sim_2\n",
    "\n",
    "\n",
    "# print(f\"v1: {edge_sim_v1(a1, b1, a2, b2)}\")\n",
    "# print(f\"v2: {edge_sim_v2(a1, b1, a2, b2)}\")"
   ]
  },
  {
   "cell_type": "code",
   "execution_count": null,
   "metadata": {
    "metadata": {}
   },
   "outputs": [],
   "source": [
    "edges = list(G.edges)\n",
    "\n",
    "sims = []\n",
    "for edge_batch_1 in batch(textqdm(edges), 128):\n",
    "    sim = []\n",
    "    for edge_batch_2 in batch(textqdm(edges), 128):\n",
    "        sim.append(edge_sim_v2(edge_batch_1, edge_batch_2))\n",
    "    sims.append(torch.cat(sim, dim=-1))\n",
    "sims = torch.cat(sims, dim=0)\n",
    "sims.shape"
   ]
  },
  {
   "cell_type": "code",
   "execution_count": null,
   "metadata": {
    "metadata": {}
   },
   "outputs": [],
   "source": [
    "idx = torch.randint(0, len(edges), (1,)).item()\n",
    "top_k = sims[idx].topk(6).indices\n",
    "\n",
    "u, v = edges[idx]\n",
    "print(f\"{G.nodes[u]['title']} -> {G.nodes[v]['title']}\")\n",
    "for i in top_k[1:]:\n",
    "    u, v = edges[i]\n",
    "    print(f\"\\t{G.nodes[u]['title']} -> {G.nodes[v]['title']} ({sims[idx, i]:.2f})\")"
   ]
  },
  {
   "cell_type": "code",
   "execution_count": null,
   "metadata": {
    "metadata": {}
   },
   "outputs": [],
   "source": [
    "# make random orthonormal matrix\n",
    "dim = 384\n",
    "x = torch.randn(dim, dim)\n",
    "svd = torch.svd(x)\n",
    "orth = svd.U @ svd.V.T"
   ]
  }
 ],
 "metadata": {
  "kernelspec": {
   "display_name": "llm-ol",
   "language": "python",
   "name": "python3"
  },
  "language_info": {
   "codemirror_mode": {
    "name": "ipython",
    "version": 3
   },
   "file_extension": ".py",
   "mimetype": "text/x-python",
   "name": "python",
   "nbconvert_exporter": "python",
   "pygments_lexer": "ipython3",
   "version": "3.11.7"
  }
 },
 "nbformat": 4,
 "nbformat_minor": 2
}
