{
 "cells": [
  {
   "cell_type": "code",
   "execution_count": null,
   "metadata": {
    "metadata": {}
   },
   "outputs": [],
   "source": [
    "import nltk"
   ]
  },
  {
   "cell_type": "code",
   "execution_count": null,
   "metadata": {
    "metadata": {}
   },
   "outputs": [],
   "source": [
    "wn = nltk.corpus.wordnet\n",
    "\n",
    "\n",
    "num_synsets = 0\n",
    "num_hyponyms = 0\n",
    "for synset in wn.all_synsets():\n",
    "    num_synsets += 1\n",
    "    num_hyponyms += len(synset.hyponyms())\n",
    "\n",
    "print(f\"Number of synsets: {num_synsets}\")\n",
    "print(f\"Number of hyponyms: {num_hyponyms}\")"
   ]
  },
  {
   "cell_type": "code",
   "execution_count": null,
   "metadata": {
    "metadata": {}
   },
   "outputs": [],
   "source": [
    "import obonet\n",
    "\n",
    "url = \"https://purl.obolibrary.org/obo/go.obo\"\n",
    "G = obonet.read_obo(url)"
   ]
  },
  {
   "cell_type": "code",
   "execution_count": null,
   "metadata": {
    "metadata": {}
   },
   "outputs": [],
   "source": [
    "num_concepts = len(G)\n",
    "num_hyponyms = 0\n",
    "for u, v, key in G.edges(keys=True):\n",
    "    if key == \"is_a\":\n",
    "        num_hyponyms += 1\n",
    "\n",
    "print(f\"Number of concepts: {num_concepts}\")\n",
    "print(f\"Number of hyponyms: {num_hyponyms}\")"
   ]
  }
 ],
 "metadata": {
  "kernelspec": {
   "display_name": "llm-ol",
   "language": "python",
   "name": "python3"
  },
  "language_info": {
   "codemirror_mode": {
    "name": "ipython",
    "version": 3
   },
   "file_extension": ".py",
   "mimetype": "text/x-python",
   "name": "python",
   "nbconvert_exporter": "python",
   "pygments_lexer": "ipython3",
   "version": "3.11.7"
  }
 },
 "nbformat": 4,
 "nbformat_minor": 2
}
