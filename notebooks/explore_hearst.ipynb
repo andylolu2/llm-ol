{
 "cells": [
  {
   "cell_type": "code",
   "execution_count": null,
   "metadata": {},
   "outputs": [],
   "source": [
    "from pathlib import Path\n",
    "import json\n",
    "\n",
    "import matplotlib.pyplot as plt\n",
    "import seaborn as sns\n",
    "import pandas as pd\n",
    "import numpy as np\n",
    "import networkx as nx"
   ]
  },
  {
   "cell_type": "code",
   "execution_count": null,
   "metadata": {},
   "outputs": [],
   "source": [
    "hyponym_file = Path(\"out/experiments/hearst/v1/hyponyms.json\")\n",
    "with open(hyponym_file, \"r\") as f:\n",
    "    hyponyms = json.load(f)"
   ]
  },
  {
   "cell_type": "code",
   "execution_count": null,
   "metadata": {},
   "outputs": [],
   "source": [
    "G = nx.DiGraph()\n",
    "for src, tgts in hyponyms.items():\n",
    "    for tgt, count in tgts.items():\n",
    "        if count > 1:\n",
    "            G.add_edge(src, tgt, weight=count)"
   ]
  },
  {
   "cell_type": "code",
   "execution_count": null,
   "metadata": {},
   "outputs": [],
   "source": [
    "G.remove_nodes_from([\"part\"])"
   ]
  },
  {
   "cell_type": "code",
   "execution_count": null,
   "metadata": {},
   "outputs": [],
   "source": [
    "component_sizes = [len(c) for c in nx.weakly_connected_components(G)]\n",
    "# component_sizes = [len(c) for c in nx.strongly_connected_components(G)]\n",
    "component_sizes = pd.DataFrame(component_sizes, columns=[\"size\"])\n",
    "component_sizes.groupby(\"size\").size().reset_index(name=\"count\")"
   ]
  },
  {
   "cell_type": "code",
   "execution_count": null,
   "metadata": {},
   "outputs": [],
   "source": [
    "largest = max(nx.weakly_connected_components(G), key=len)\n",
    "G_cat = nx.subgraph(G, largest)\n",
    "component_sizes = [len(c) for c in nx.weakly_connected_components(G_cat)]\n",
    "component_sizes = pd.DataFrame(component_sizes, columns=[\"size\"])\n",
    "component_sizes.groupby(\"size\").size().reset_index(name=\"count\")"
   ]
  },
  {
   "cell_type": "code",
   "execution_count": null,
   "metadata": {},
   "outputs": [],
   "source": [
    "nx.write_graphml(G_cat, \"out/experiments/hearst/v1/hyponyms.graphml\")"
   ]
  },
  {
   "cell_type": "code",
   "execution_count": null,
   "metadata": {},
   "outputs": [],
   "source": [
    "import random\n",
    "\n",
    "# show random subgraphs\n",
    "random_root = random.choice(list(G_cat.nodes))\n",
    "while not (5 < len(random_subgraph := nx.ego_graph(G_cat, random_root, radius=2)) < 30):\n",
    "    random_root = random.choice(list(G_cat.nodes))\n",
    "# fig, ax = plt.subplots(figsize=(6, 6))\n",
    "# nx.draw_networkx(random_subgraph, with_labels=True, ax=ax, pos=nx.circular_layout(random_subgraph))\n",
    "# ax.set(title=f\"Random subgraph of {random_root}\")\n",
    "\n",
    "print(random_root)\n",
    "A = nx.drawing.nx_agraph.to_agraph(random_subgraph)\n",
    "A.layout(\"fdp\")\n",
    "A.draw(f\"out/experiments/hearst/v1/visualisation/{random_root}.png\")\n",
    "A"
   ]
  }
 ],
 "metadata": {
  "kernelspec": {
   "display_name": "Python 3",
   "language": "python",
   "name": "python3"
  },
  "language_info": {
   "codemirror_mode": {
    "name": "ipython",
    "version": 3
   },
   "file_extension": ".py",
   "mimetype": "text/x-python",
   "name": "python",
   "nbconvert_exporter": "python",
   "pygments_lexer": "ipython3",
   "version": "3.11.7"
  }
 },
 "nbformat": 4,
 "nbformat_minor": 2
}
