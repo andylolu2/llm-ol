{
 "cells": [
  {
   "cell_type": "code",
   "execution_count": null,
   "metadata": {},
   "outputs": [],
   "source": [
    "%load_ext autoreload\n",
    "%autoreload 2"
   ]
  },
  {
   "cell_type": "code",
   "execution_count": null,
   "metadata": {},
   "outputs": [],
   "source": [
    "%env HF_HOME=out/hf_cache"
   ]
  },
  {
   "cell_type": "code",
   "execution_count": null,
   "metadata": {},
   "outputs": [],
   "source": [
    "import networkx as nx\n",
    "from absl import logging\n",
    "\n",
    "from llm_ol.dataset import data_model\n",
    "from llm_ol.experiments.post_processing import hp_search, prune_edges_out_from_node\n",
    "\n",
    "logging.set_verbosity(logging.INFO)"
   ]
  },
  {
   "cell_type": "code",
   "execution_count": null,
   "metadata": {},
   "outputs": [],
   "source": [
    "# G = data_model.load_graph(\"out/experiments/hearst/v2/graph.json\")\n",
    "G = data_model.load_graph(\"out/experiments/prompting/v5/eval/graph.json\")\n",
    "G_true = data_model.load_graph(\"out/data/wikipedia/v2/train_eval_split/test_graph.json\")\n",
    "\n",
    "# G.graph.pop(\"root\")"
   ]
  },
  {
   "cell_type": "code",
   "execution_count": null,
   "metadata": {},
   "outputs": [],
   "source": [
    "_, G_pruned, score = hp_search(\n",
    "    G,\n",
    "    G_true,\n",
    "    metric=\"edge_f1\",\n",
    "    weight_threshold=[10],\n",
    "    percentile_threshold=[0.9],\n",
    "    merge_nodes_by_lemma=[True],\n",
    "    remove_self_loops=[True],\n",
    "    remove_inverse_edges=[True],\n",
    "    prune_unconnected_nodes=[True],\n",
    ")"
   ]
  },
  {
   "cell_type": "code",
   "execution_count": null,
   "metadata": {},
   "outputs": [],
   "source": [
    "import random\n",
    "\n",
    "nodes = list(G_pruned.nodes())\n",
    "\n",
    "for _ in range(10):\n",
    "    path = nx.shortest_path(G_pruned, G_pruned.graph[\"root\"], random.choice(nodes))\n",
    "    print(path[0], end=\"\")\n",
    "    for u, v in zip(path[:-1], path[1:]):\n",
    "        weight = G_pruned[u][v][\"weight\"]\n",
    "        print(f\" -> ({weight}) {v}\", end=\"\")\n",
    "    print()"
   ]
  }
 ],
 "metadata": {
  "kernelspec": {
   "display_name": "llm-ol",
   "language": "python",
   "name": "python3"
  },
  "language_info": {
   "codemirror_mode": {
    "name": "ipython",
    "version": 3
   },
   "file_extension": ".py",
   "mimetype": "text/x-python",
   "name": "python",
   "nbconvert_exporter": "python",
   "pygments_lexer": "ipython3",
   "version": "3.11.7"
  }
 },
 "nbformat": 4,
 "nbformat_minor": 2
}
