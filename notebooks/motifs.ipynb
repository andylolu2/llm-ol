{
 "cells": [
  {
   "cell_type": "code",
   "execution_count": null,
   "metadata": {},
   "outputs": [],
   "source": [
    "%load_ext autoreload\n",
    "%autoreload 2"
   ]
  },
  {
   "cell_type": "code",
   "execution_count": null,
   "metadata": {},
   "outputs": [],
   "source": [
    "import graph_tool.all as gt\n",
    "import networkx as nx\n",
    "import numpy as np\n",
    "\n",
    "from llm_ol.dataset import data_model\n",
    "from llm_ol.utils.nx_to_gt import nx_to_gt"
   ]
  },
  {
   "cell_type": "code",
   "execution_count": null,
   "metadata": {},
   "outputs": [],
   "source": [
    "# G = data_model.load_graph(\"out/data/wikipedia/v1/full/graph_depth_3.json\")\n",
    "# G = data_model.load_graph(\"out/experiments/prompting/dev-h-v2/graph.json\")\n",
    "G = data_model.load_graph(\"out/experiments/hearst/v1/graph.json\")"
   ]
  },
  {
   "cell_type": "code",
   "execution_count": null,
   "metadata": {},
   "outputs": [],
   "source": [
    "G_gt = nx_to_gt(G)"
   ]
  },
  {
   "cell_type": "code",
   "execution_count": null,
   "metadata": {},
   "outputs": [],
   "source": [
    "motifs, counts, vertex_maps = gt.motifs(G_gt, 3, return_maps=True)\n",
    "# order = np.argsort(counts)[::-1]\n",
    "# motifs = [motifs[i] for i in order]\n",
    "# counts = [counts[i] for i in order]\n",
    "# vertex_maps = [vertex_maps[i] for i in order]\n",
    "\n",
    "# motifs, counts = gt.motifs(G_gt, 4, return_maps=False)\n",
    "# order = np.argsort(counts)[::-1]\n",
    "# motifs = [motifs[i] for i in order]\n",
    "# counts = [counts[i] for i in order]\n",
    "print(counts)"
   ]
  },
  {
   "cell_type": "code",
   "execution_count": null,
   "metadata": {},
   "outputs": [],
   "source": [
    "sub_G = gt.GraphView(G_gt, vfilt=lambda v: v in vertex_maps[4][0].get_array())\n",
    "gt.graph_draw(\n",
    "    sub_G,\n",
    "    vertex_text=sub_G.vp[\"title\"],\n",
    "    vertex_font_size=8,\n",
    "    edge_pen_width=4,\n",
    "    bg_color=\"white\",\n",
    "    output_size=(600, 600),\n",
    ")"
   ]
  },
  {
   "cell_type": "code",
   "execution_count": null,
   "metadata": {},
   "outputs": [],
   "source": [
    "root_v = gt.find_vertex(G_gt, G_gt.vp[\"id\"], G_gt.gp[\"root\"])[0]\n",
    "dist_from_root = gt.shortest_distance(G_gt, root_v)\n",
    "\n",
    "gt.graph_draw(\n",
    "    G_gt,\n",
    "    bg_color=\"white\",\n",
    "    vertex_fill_color=dist_from_root,\n",
    "    output_size=(1200, 1200),\n",
    ")"
   ]
  }
 ],
 "metadata": {
  "kernelspec": {
   "display_name": "Python 3",
   "language": "python",
   "name": "python3"
  },
  "language_info": {
   "codemirror_mode": {
    "name": "ipython",
    "version": 3
   },
   "file_extension": ".py",
   "mimetype": "text/x-python",
   "name": "python",
   "nbconvert_exporter": "python",
   "pygments_lexer": "ipython3",
   "version": "3.11.7"
  }
 },
 "nbformat": 4,
 "nbformat_minor": 2
}
