{
 "cells": [
  {
   "cell_type": "code",
   "execution_count": null,
   "metadata": {},
   "outputs": [],
   "source": [
    "%load_ext autoreload\n",
    "%autoreload 2"
   ]
  },
  {
   "cell_type": "code",
   "execution_count": null,
   "metadata": {},
   "outputs": [],
   "source": [
    "import networkx as nx\n",
    "import matplotlib.pyplot as plt\n",
    "import seaborn as sns\n",
    "import pandas as pd\n",
    "\n",
    "from llm_ol.dataset import data_model"
   ]
  },
  {
   "cell_type": "code",
   "execution_count": null,
   "metadata": {},
   "outputs": [],
   "source": [
    "G = data_model.load_graph(\"out/experiments/prompting/v3/graph.json\")\n",
    "G_wiki = data_model.load_graph(\"out/data/wikipedia/v1/full/graph_depth_3.json\")"
   ]
  },
  {
   "cell_type": "code",
   "execution_count": null,
   "metadata": {},
   "outputs": [],
   "source": [
    "distances = nx.single_source_shortest_path_length(G, G.graph[\"root\"])\n",
    "distances = {G.nodes(\"title\")[k]: v for k, v in distances.items()}\n",
    "wiki_distances = nx.single_source_shortest_path_length(G_wiki, G_wiki.graph[\"root\"])\n",
    "wiki_distances = {G_wiki.nodes(\"title\")[k]: v for k, v in wiki_distances.items()}"
   ]
  },
  {
   "cell_type": "code",
   "execution_count": null,
   "metadata": {},
   "outputs": [],
   "source": [
    "def build_df(G):\n",
    "    distances = nx.single_source_shortest_path_length(G, G.graph[\"root\"])\n",
    "    weights = {}\n",
    "    G_uni = G.to_undirected()\n",
    "    for n in G.nodes():\n",
    "        weight = 0\n",
    "        for _, _, w in G_uni.edges(n, data=\"weight\", default=1):\n",
    "            weight += w\n",
    "        weights[n] = weight\n",
    "    df = pd.DataFrame(\n",
    "        {\n",
    "            \"title\": [G.nodes(\"title\")[k] for k in distances.keys()],\n",
    "            \"distance\": distances.values(),\n",
    "            \"weight\": [weights[k] for k in distances.keys()],\n",
    "        }\n",
    "    )\n",
    "    return df\n",
    "\n",
    "\n",
    "df = build_df(G)\n",
    "df_wiki = build_df(G_wiki)\n",
    "df = df.join(df_wiki.set_index(\"title\"), on=\"title\", rsuffix=\"_wiki\", how=\"outer\")\n",
    "print(\n",
    "    f\"Graph: {len(df)} nodes, Wiki: {len(df_wiki)} nodes, Both: {len(df.dropna())} nodes, Null: {df.isna().any(axis=1).sum()} nodes\"\n",
    ")"
   ]
  },
  {
   "cell_type": "code",
   "execution_count": null,
   "metadata": {},
   "outputs": [],
   "source": [
    "fig, ax = plt.subplots(1, 1, figsize=(5, 80))\n",
    "\n",
    "df_ = df.query(\"distance == 1\")\n",
    "df_ = df_.sort_values(\"weight\", ascending=False).iloc[:500]\n",
    "sns.barplot(data=df_, x=\"weight\", y=\"title\", hue=\"distance_wiki\", ax=ax, dodge=False)\n",
    "ax.set(xscale=\"log\")\n",
    "ax.legend(loc=\"upper left\")\n",
    "\n",
    "fig.savefig(\"out/graphs/prompting_dist1_ranking.png\", bbox_inches=\"tight\", dpi=144)"
   ]
  }
 ],
 "metadata": {
  "kernelspec": {
   "display_name": "llm-ol",
   "language": "python",
   "name": "python3"
  },
  "language_info": {
   "codemirror_mode": {
    "name": "ipython",
    "version": 3
   },
   "file_extension": ".py",
   "mimetype": "text/x-python",
   "name": "python",
   "nbconvert_exporter": "python",
   "pygments_lexer": "ipython3",
   "version": "3.11.7"
  }
 },
 "nbformat": 4,
 "nbformat_minor": 2
}
